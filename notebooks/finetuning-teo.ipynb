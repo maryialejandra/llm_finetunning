{
 "cells": [
  {
   "cell_type": "code",
   "execution_count": null,
   "metadata": {},
   "outputs": [],
   "source": [
    "%load_ext autoreload\n",
    "%autoreload 2\n",
    "\n",
    "import sys\n",
    "from pathlib import Path\n",
    "sys.path.append('../')\n",
    "\n",
    "from torch import nn, Tensor\n",
    "from transformers import AutoTokenizer\n",
    "\n",
    "import src.utils as ut\n",
    "import src.trainer as trn\n",
    "import src.finetuning as ft\n",
    "\n",
    "from src.utils import LLAMA_MODEL_ID, login_to_hf_hub\n",
    "from src.txt_dataset import TokenizedTxtDataset\n",
    "\n",
    "\n",
    "login_to_hf_hub()\n",
    "TOKENIZER = AutoTokenizer.from_pretrained(LLAMA_MODEL_ID)\n",
    "\n",
    "ut.gpu_mem_info()\n"
   ]
  },
  {
   "cell_type": "code",
   "execution_count": null,
   "metadata": {},
   "outputs": [],
   "source": [
    "model = ut.load_raw_model()\n",
    "print(\"before installing LoRA layers: \", ut.gpu_mem_info())\n",
    "\n",
    "ft.freeze_and_install_lora(model, lora_rank=16)\n",
    "print(\"after installing LoRA layers: \", ut.gpu_mem_info())"
   ]
  },
  {
   "cell_type": "code",
   "execution_count": null,
   "metadata": {},
   "outputs": [],
   "source": [
    "text_fpaths = [\n",
    "    Path(\"../data/Estatutos-Universidad-de-los-Andes-2020-ratificados-MEN-RQ.translated.txt\"),\n",
    "    Path(\"../data/reglamento-maestria-web-2024.translated.txt\"),\n",
    "]\n",
    "\n",
    "train_ds = TokenizedTxtDataset(text_fpaths,\n",
    "                block_size=128,\n",
    "                stride=64,\n",
    "                tokenizer=TOKENIZER,\n",
    "                start_pct=0.0,\n",
    "                end_pct=90.0\n",
    "            )\n",
    "\n",
    "valid_ds = TokenizedTxtDataset(text_fpaths,\n",
    "                block_size=128,\n",
    "                stride=64,\n",
    "                tokenizer=TOKENIZER,\n",
    "                start_pct=90.0,\n",
    "                end_pct=100.0\n",
    "            )\n",
    "\n",
    "print(\"len(ds):\", len(train_ds), \"max_stride_mult:\", train_ds.max_stride_mult)\n",
    "\n",
    "DEVICE = ut.module_device(model)\n",
    "print(f\"DEVICE: {DEVICE}\")\n",
    "TRAIN_BATCH_SIZE = 1\n",
    "VALID_BATCH_SIZE = 8\n",
    "LEARNING_RATE = 2e-4\n",
    "\n",
    "trainer = trn.Trainer(\n",
    "    train_ds=train_ds,\n",
    "    train_batch_size=TRAIN_BATCH_SIZE,\n",
    "    valid_ds=valid_ds,\n",
    "    valid_batch_size=VALID_BATCH_SIZE,\n",
    "    lr=LEARNING_RATE,\n",
    "    device=DEVICE\n",
    ")\n",
    "\n",
    "def pred_next_token_loss(model: nn.Module, batch: dict[str, Tensor]) -> Tensor:\n",
    "    return model(input_ids=batch['input_ids'],\n",
    "                 attention_mask=batch['attention_mask'],\n",
    "                 labels=batch['input_ids']).loss\n",
    "\n",
    "trainer.train(model,\n",
    "              loss_fun=pred_next_token_loss,\n",
    "              max_steps=70,\n",
    "              accum_grad_steps=8)"
   ]
  }
 ],
 "metadata": {
  "kernelspec": {
   "display_name": "py311-maia",
   "language": "python",
   "name": "python3"
  },
  "language_info": {
   "name": "python",
   "version": "3.11.10"
  }
 },
 "nbformat": 4,
 "nbformat_minor": 2
}
