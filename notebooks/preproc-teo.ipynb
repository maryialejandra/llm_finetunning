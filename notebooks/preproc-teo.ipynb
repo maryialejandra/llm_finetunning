{
 "cells": [
  {
   "cell_type": "markdown",
   "metadata": {},
   "source": []
  },
  {
   "cell_type": "code",
   "execution_count": null,
   "metadata": {},
   "outputs": [],
   "source": [
    "from pathlib import Path\n",
    "import src.preproc0 as pp0"
   ]
  },
  {
   "cell_type": "code",
   "execution_count": null,
   "metadata": {},
   "outputs": [
    {
     "name": "stdout",
     "output_type": "stream",
     "text": [
      "input has 1122 lines, 49403 chars\n",
      "output has 712 lines 49182 chars, skip_counts: Counter({'special line \\x0c': 45, 'single-number-line': 29, 'UNIVERSIDAD DE LOS ANDES': 14})\n"
     ]
    },
    {
     "data": {
      "text/plain": [
       "49893"
      ]
     },
     "execution_count": 20,
     "metadata": {},
     "output_type": "execute_result"
    }
   ],
   "source": [
    "raw_lines = (Path(\"../data/Estatutos-Universidad-de-los-Andes-2020-ratificados-MEN-RQ.raw.txt\")\n",
    "             .read_text()\n",
    "             .split(\"\\n\"))\n",
    "\n",
    "out_lines = pp0.process_raw_lines_estatutos(raw_lines)\n",
    "\n",
    "Path(\"../data/Estatutos-Universidad-de-los-Andes-2020-ratificados-MEN-RQ.preprocessed.txt\").write_text(\"\\n\".join(out_lines))\n"
   ]
  },
  {
   "cell_type": "code",
   "execution_count": 19,
   "metadata": {},
   "outputs": [],
   "source": [
    "raw_lines_maestria = (Path(\"../data/reglamento-maestria-web-2024.raw.txt\")\n",
    "             .read_text()\n",
    "             .split(\"\\n\"))"
   ]
  },
  {
   "cell_type": "code",
   "execution_count": null,
   "metadata": {},
   "outputs": [
    {
     "name": "stdout",
     "output_type": "stream",
     "text": [
      "input has 1179 lines, 58404 chars\n",
      "skipping x0c-line: \fCAPÍTULO VII. RÉGIMEN ACADÉMICO\n",
      "skipping x0c-line: \fCAPÍTULO VII. RÉGIMEN ACADÉMICO\n",
      "skipping x0c-line: \fCAPÍTULO VII. RÉGIMEN ACADÉMICO\n",
      "skipping x0c-line: \fCAPÍTULO VII. RÉGIMEN ACADÉMICO\n",
      "skipping x0c-line: \fCAPÍTULO VII. RÉGIMEN ACADÉMICO\n",
      "skipping x0c-line: \fCAPÍTULO VII. RÉGIMEN ACADÉMICO\n",
      "skipping x0c-line: \fDEFINICIONES\n",
      "output has 775 lines 58756 chars, skip_counts: Counter({'single-number-line': 74, '\\x0c-page-number': 18, '\\x0c': 7, 'UNIVERSIDAD DE LOS ANDES': 1})\n"
     ]
    },
    {
     "data": {
      "text/plain": [
       "59530"
      ]
     },
     "execution_count": 39,
     "metadata": {},
     "output_type": "execute_result"
    }
   ],
   "source": [
    "\n",
    "Path(\"../data/reglamento-maestria-web-2024.preprocessed.txt\").write_text(\"\\n\".join(out_lines))\n",
    "out_lines = pp0.process_raw_lines_maestria(raw_lines_maestria)\n"
   ]
  },
  {
   "cell_type": "code",
   "execution_count": null,
   "metadata": {},
   "outputs": [],
   "source": []
  }
 ],
 "metadata": {
  "kernelspec": {
   "display_name": "py311-maia",
   "language": "python",
   "name": "python3"
  },
  "language_info": {
   "codemirror_mode": {
    "name": "ipython",
    "version": 3
   },
   "file_extension": ".py",
   "mimetype": "text/x-python",
   "name": "python",
   "nbconvert_exporter": "python",
   "pygments_lexer": "ipython3",
   "version": "3.11.10"
  }
 },
 "nbformat": 4,
 "nbformat_minor": 2
}
