{
 "cells": [
  {
   "cell_type": "markdown",
   "metadata": {},
   "source": []
  },
  {
   "cell_type": "code",
   "execution_count": 3,
   "metadata": {},
   "outputs": [
    {
     "name": "stdout",
     "output_type": "stream",
     "text": [
      "The autoreload extension is already loaded. To reload it, use:\n",
      "  %reload_ext autoreload\n"
     ]
    }
   ],
   "source": [
    "%load_ext autoreload\n",
    "%autoreload 2\n",
    "import sys\n",
    "sys.path.append(\"../\")\n",
    "\n",
    "from pathlib import Path\n",
    "import src.preproc0 as pp0"
   ]
  },
  {
   "cell_type": "markdown",
   "metadata": {},
   "source": [
    "###  Preprocessing 1:  raw -> preprocessed"
   ]
  },
  {
   "cell_type": "code",
   "execution_count": null,
   "metadata": {},
   "outputs": [
    {
     "name": "stdout",
     "output_type": "stream",
     "text": [
      "input has 1122 lines, 49403 chars\n",
      "output has 712 lines 49182 chars, skip_counts: Counter({'special line \\x0c': 45, 'single-number-line': 29, 'UNIVERSIDAD DE LOS ANDES': 14})\n"
     ]
    },
    {
     "data": {
      "text/plain": [
       "49893"
      ]
     },
     "execution_count": 20,
     "metadata": {},
     "output_type": "execute_result"
    }
   ],
   "source": [
    "raw_lines = (Path(\"../data/Estatutos-Universidad-de-los-Andes-2020-ratificados-MEN-RQ.raw.txt\")\n",
    "             .read_text()\n",
    "             .split(\"\\n\"))\n",
    "\n",
    "out_lines = pp0.process_raw_lines_estatutos(raw_lines)\n",
    "\n",
    "Path(\"../data/Estatutos-Universidad-de-los-Andes-2020-ratificados-MEN-RQ.preprocessed.txt\").write_text(\"\\n\".join(out_lines))\n"
   ]
  },
  {
   "cell_type": "code",
   "execution_count": 14,
   "metadata": {},
   "outputs": [
    {
     "name": "stdout",
     "output_type": "stream",
     "text": [
      "input has 1179 lines, 59582 chars\n",
      "output has 770 lines 58962 chars, skip_counts: Counter({'single-number-line': 92, 'UNIVERSIDAD DE LOS ANDES': 1})\n"
     ]
    }
   ],
   "source": [
    "raw_lines_maestria = (\n",
    "    Path(\"../data/reglamento-maestria-web-2024.raw.txt\")\n",
    "    .open(\"rt\")\n",
    "    .readlines()\n",
    ")\n",
    "out_lines_maestria = pp0.process_raw_lines_maestria(raw_lines_maestria)"
   ]
  },
  {
   "cell_type": "code",
   "execution_count": null,
   "metadata": {},
   "outputs": [
    {
     "data": {
      "text/plain": [
       "59731"
      ]
     },
     "execution_count": 15,
     "metadata": {},
     "output_type": "execute_result"
    }
   ],
   "source": [
    "Path(\"../data/reglamento-maestria-web-2024.preprocessed.txt\").write_text(\"\\n\".join(out_lines_maestria))\n"
   ]
  },
  {
   "cell_type": "markdown",
   "metadata": {},
   "source": [
    "###  2. Manual massaging:  preprocess -> manually cleaned\n",
    "\n",
    "Some minor manual massaging happened here. This consisted mostly of removing some whitespaces and merging some lines together.\n"
   ]
  },
  {
   "cell_type": "markdown",
   "metadata": {},
   "source": [
    "### 3. Preprocessing 2:  manually cleaned -> preprocessed 2"
   ]
  },
  {
   "cell_type": "code",
   "execution_count": 25,
   "metadata": {},
   "outputs": [],
   "source": [
    "lines = Path(\"../data/reglamento-maestria-web-2024.manually-cleaned.txt\").open(\"rt\").readlines()\n",
    "out_lines = pp0.preproc2(lines)\n",
    "\n",
    "Path(\"../data/reglamento-maestria-web-2024.preprocessed2.txt\").open(\"wt\").writelines(out_lines)"
   ]
  },
  {
   "cell_type": "code",
   "execution_count": 28,
   "metadata": {},
   "outputs": [],
   "source": [
    "lines = Path(\"../data/Estatutos-Universidad-de-los-Andes-2020-ratificados-MEN-RQ.manually-cleaned.txt\").open(\"rt\").readlines()\n",
    "out_lines = pp0.preproc2(lines)\n",
    "\n",
    "Path(\"../data/Estatutos-Universidad-de-los-Andes-2020-ratificados-MEN-RQ.preprocessed2.txt\").open(\"wt\").writelines(out_lines)"
   ]
  },
  {
   "cell_type": "code",
   "execution_count": null,
   "metadata": {},
   "outputs": [],
   "source": []
  }
 ],
 "metadata": {
  "kernelspec": {
   "display_name": "py311-maia",
   "language": "python",
   "name": "python3"
  },
  "language_info": {
   "codemirror_mode": {
    "name": "ipython",
    "version": 3
   },
   "file_extension": ".py",
   "mimetype": "text/x-python",
   "name": "python",
   "nbconvert_exporter": "python",
   "pygments_lexer": "ipython3",
   "version": "3.11.10"
  }
 },
 "nbformat": 4,
 "nbformat_minor": 2
}
